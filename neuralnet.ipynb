{
 "cells": [
  {
   "cell_type": "markdown",
   "metadata": {},
   "source": [
    "FROM https://www.kaggle.com/datasets/hojjatk/mnist-dataset"
   ]
  },
  {
   "cell_type": "code",
   "execution_count": 2,
   "metadata": {},
   "outputs": [],
   "source": [
    "#\n",
    "# This is a sample Notebook to demonstrate how to read \"MNIST Dataset\"\n",
    "#\n",
    "import numpy as np # linear algebra\n",
    "import struct\n",
    "from array import array\n",
    "from os.path  import join\n",
    "\n",
    "#\n",
    "# MNIST Data Loader Class\n",
    "#\n",
    "class MnistDataloader(object):\n",
    "    def __init__(self, training_images_filepath,training_labels_filepath,\n",
    "                 test_images_filepath, test_labels_filepath):\n",
    "        self.training_images_filepath = training_images_filepath\n",
    "        self.training_labels_filepath = training_labels_filepath\n",
    "        self.test_images_filepath = test_images_filepath\n",
    "        self.test_labels_filepath = test_labels_filepath\n",
    "    \n",
    "    def read_images_labels(self, images_filepath, labels_filepath):        \n",
    "        labels = []\n",
    "        with open(labels_filepath, 'rb') as file:\n",
    "            magic, size = struct.unpack(\">II\", file.read(8))\n",
    "            if magic != 2049:\n",
    "                raise ValueError('Magic number mismatch, expected 2049, got {}'.format(magic))\n",
    "            labels = array(\"B\", file.read())        \n",
    "        \n",
    "        with open(images_filepath, 'rb') as file:\n",
    "            magic, size, rows, cols = struct.unpack(\">IIII\", file.read(16))\n",
    "            if magic != 2051:\n",
    "                raise ValueError('Magic number mismatch, expected 2051, got {}'.format(magic))\n",
    "            image_data = array(\"B\", file.read())        \n",
    "        images = []\n",
    "        for i in range(size):\n",
    "            images.append([0] * rows * cols)\n",
    "        for i in range(size):\n",
    "            img = np.array(image_data[i * rows * cols:(i + 1) * rows * cols])\n",
    "            img = img.reshape(28, 28)\n",
    "            images[i][:] = img            \n",
    "        \n",
    "        return images, labels\n",
    "            \n",
    "    def load_data(self):\n",
    "        x_train, y_train = self.read_images_labels(self.training_images_filepath, self.training_labels_filepath)\n",
    "        x_test, y_test = self.read_images_labels(self.test_images_filepath, self.test_labels_filepath)\n",
    "        return (x_train, y_train),(x_test, y_test)"
   ]
  },
  {
   "cell_type": "code",
   "execution_count": 3,
   "metadata": {},
   "outputs": [],
   "source": [
    "#\n",
    "# Verify Reading Dataset via MnistDataloader class\n",
    "#\n",
    "%matplotlib inline\n",
    "import random\n",
    "import matplotlib.pyplot as plt\n",
    "\n",
    "#\n",
    "# Set file paths based on added MNIST Datasets\n",
    "#\n",
    "input_path = './input'\n",
    "training_images_filepath = join(input_path, 'train-images-idx3-ubyte')\n",
    "training_labels_filepath = join(input_path, 'train-labels-idx1-ubyte')\n",
    "test_images_filepath = join(input_path, 't10k-images-idx3-ubyte')\n",
    "test_labels_filepath = join(input_path, 't10k-labels-idx1-ubyte')\n",
    "\n",
    "#\n",
    "# Helper function to show a list of images with their relating titles\n",
    "#\n",
    "def show_images(images, title_texts):\n",
    "    cols = 5\n",
    "    rows = int(len(images)/cols) + 1\n",
    "    plt.figure(figsize=(30,20))\n",
    "    index = 1    \n",
    "    for x in zip(images, title_texts):        \n",
    "        image = x[0]        \n",
    "        title_text = x[1]\n",
    "        plt.subplot(rows, cols, index)        \n",
    "        plt.imshow(image, cmap=plt.cm.gray)\n",
    "        if (title_text != ''):\n",
    "            plt.title(title_text, fontsize = 15);        \n",
    "        index += 1\n",
    "\n",
    "#\n",
    "# Load MINST dataset\n",
    "#\n",
    "mnist_dataloader = MnistDataloader(training_images_filepath, training_labels_filepath, test_images_filepath, test_labels_filepath)\n",
    "(x_train, y_train), (x_test, y_test) = mnist_dataloader.load_data()\n",
    "\n",
    "#\n",
    "# Show some random training and test images \n",
    "#\n",
    "# images_2_show = []\n",
    "# titles_2_show = []\n",
    "# for i in range(0, 10):\n",
    "#     r = random.randint(1, 60000)\n",
    "#     images_2_show.append(x_train[r])\n",
    "#     titles_2_show.append('training image [' + str(r) + '] = ' + str(y_train[r]))    \n",
    "\n",
    "# for i in range(0, 5):\n",
    "#     r = random.randint(1, 10000)\n",
    "#     images_2_show.append(x_test[r])        \n",
    "#     titles_2_show.append('test image [' + str(r) + '] = ' + str(y_test[r]))    \n",
    "\n",
    "# show_images(images_2_show, titles_2_show)"
   ]
  },
  {
   "cell_type": "code",
   "execution_count": 356,
   "metadata": {},
   "outputs": [],
   "source": [
    "def sigmoid(x):\n",
    "    return 1 / (1 + np.exp(-x))\n",
    "def softmax(x):\n",
    "    return np.exp(x) / sum(np.exp(x))\n",
    "def d_relu(x):\n",
    "    return x>0"
   ]
  },
  {
   "cell_type": "code",
   "execution_count": 357,
   "metadata": {},
   "outputs": [],
   "source": [
    "from itertools import chain\n",
    "x_arr_train = np.array([list(chain(*x_train[0]))])\n",
    "y_arr_train = np.array(y_train[0:5000])\n",
    "x_arr_test = np.array([list(chain(*x_test[0]))])\n",
    "y_arr_test = np.array(y_test[0:5000])\n",
    "for i in range(1,5000):\n",
    "    x_arr_train = np.concatenate((x_arr_train,np.array([list(chain(*x_train[i]))])), axis=0)\n",
    "    x_arr_test = np.concatenate((x_arr_test,np.array([list(chain(*x_test[i]))])), axis=0)\n",
    "x_arr_train = x_arr_train/255\n",
    "x_arr_test = x_arr_test/255\n"
   ]
  },
  {
   "cell_type": "code",
   "execution_count": 363,
   "metadata": {},
   "outputs": [],
   "source": [
    "def forward_prop(x_arr,W1,W2,b1,b2):    \n",
    "    \"\"\"hidden layer\"\"\"\n",
    "    A1 = W1.dot(x_arr.T) + b1\n",
    "    O1 = np.maximum(0,A1)\n",
    "    \"\"\"predict layer\"\"\"\n",
    "    A2 = W2.dot(O1) + b2\n",
    "    O2 = softmax(A2)\n",
    "    return A1,O1,A2,O2\n",
    "\n",
    "def back_prop(x_arr,y_arr,A1,O1,O2,W2):\n",
    "    Y = np.zeros((y_arr.size,10))\n",
    "    Y[np.arange(y_arr.size),y_arr] = 1\n",
    "    Y = Y.T\n",
    "    m = y_arr.size\n",
    "    dA2 = O2 - Y\n",
    "    dW2 = 1/m * dA2.dot(O1.T)\n",
    "    db2 = 1/m * np.sum(dA2)\n",
    "    dA1 = W2.T.dot(dA2)*d_relu(A1)\n",
    "    dW1 = 1/m * dA1.dot(x_arr)\n",
    "    db1 = 1/m * np.sum(dA1)\n",
    "    return dW1,db1,dW2,db2\n",
    "\n",
    "def get_predictions(O2):\n",
    "    return np.argmax(O2, 0)\n",
    "\n",
    "def get_accuracy(predictions, Y):\n",
    "    return (np.sum(predictions == Y) / Y.size)*100\n"
   ]
  },
  {
   "cell_type": "code",
   "execution_count": 365,
   "metadata": {},
   "outputs": [],
   "source": [
    "W1 = np.random.randn(10, 784) * np.sqrt(2 / 784)\n",
    "W2 = np.random.randn(10, 10) * np.sqrt(2 / 10)\n",
    "b1 = np.random.randn(10, 1)\n",
    "b2 = np.random.randn(10, 1)\n",
    "loop = 1000\n",
    "learning_rate = 0.1\n",
    "for i in range(loop):\n",
    "    A1,O1,A2,O2 = forward_prop(x_arr_train,W1,W2,b1,b2)\n",
    "    dW1,db1,dW2,db2 = back_prop(x_arr_train,y_arr_train,A1,O1,O2,W2)\n",
    "    W1 = W1 - learning_rate * dW1\n",
    "    W2 = W2 - learning_rate * dW2\n",
    "    b1 = b1 - learning_rate * db1\n",
    "    b2 = b2 - learning_rate * db2"
   ]
  },
  {
   "cell_type": "code",
   "execution_count": 366,
   "metadata": {},
   "outputs": [],
   "source": [
    "A1,O1,A2,O2 = forward_prop(x_arr_test,W1,W2,b1,b2)"
   ]
  },
  {
   "cell_type": "code",
   "execution_count": 367,
   "metadata": {},
   "outputs": [
    {
     "name": "stdout",
     "output_type": "stream",
     "text": [
      "84.74000000000001\n"
     ]
    }
   ],
   "source": [
    "predictions = get_predictions(O2)\n",
    "print(get_accuracy(predictions, y_arr_test))"
   ]
  }
 ],
 "metadata": {
  "kernelspec": {
   "display_name": "Python 3",
   "language": "python",
   "name": "python3"
  },
  "language_info": {
   "codemirror_mode": {
    "name": "ipython",
    "version": 3
   },
   "file_extension": ".py",
   "mimetype": "text/x-python",
   "name": "python",
   "nbconvert_exporter": "python",
   "pygments_lexer": "ipython3",
   "version": "3.11.6"
  }
 },
 "nbformat": 4,
 "nbformat_minor": 2
}
